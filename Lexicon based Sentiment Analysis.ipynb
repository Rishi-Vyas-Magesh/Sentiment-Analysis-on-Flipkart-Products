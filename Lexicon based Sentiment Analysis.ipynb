{
 "cells": [
  {
   "cell_type": "code",
   "execution_count": null,
   "id": "48dd483b-29f3-4756-8d51-ecdf65456423",
   "metadata": {},
   "outputs": [],
   "source": [
    "### Importing Neccessary Packages for Python- For Web browsing simulation and Reviews Scraping"
   ]
  },
  {
   "cell_type": "code",
   "execution_count": null,
   "id": "43cf1967-a6dd-4ae4-9a22-e30c33a75d41",
   "metadata": {},
   "outputs": [],
   "source": [
    "pip install selenium"
   ]
  },
  {
   "cell_type": "code",
   "execution_count": null,
   "id": "47fe48e7-f476-4f35-95f2-af1a5beb75e0",
   "metadata": {},
   "outputs": [],
   "source": [
    "# ✅ Step 1: Import necessary packages\n",
    "from selenium import webdriver\n",
    "from selenium.webdriver.chrome.service import Service\n",
    "from selenium.webdriver.common.by import By\n",
    "import time\n",
    "\n",
    "# ✅ Step 2: Ask for the Flipkart product review URL\n",
    "flipkart_url = input(\"Enter Flipkart product review page URL:\\n\")\n",
    "\n",
    "# ✅ Path to your local chromedriver.exe (adjust this path as per your PC)\n",
    "chromedriver_path = \"C:/WebDriver/chromedriver.exe\"  # Updated this to my local drive directory\n",
    "\n",
    "# ✅ Setup Chrome options (open visible browser)\n",
    "options = webdriver.ChromeOptions()\n",
    "options.add_argument(\"--start-maximized\")  # Optional: start maximized\n",
    "options.add_argument(\"--disable-notifications\")  # Prevent popups\n",
    "options.add_experimental_option(\"detach\", True)  # Keep Chrome open after script ends (optional)\n",
    "\n",
    "# ✅ Launch Chrome browser with Selenium\n",
    "driver = webdriver.Chrome(service=Service(chromedriver_path), options=options)\n",
    "\n",
    "# ✅ Navigate to the user-provided Flipkart URL\n",
    "print(\"\\n🌐 Opening page...\")\n",
    "driver.get(flipkart_url)\n",
    "\n",
    "# ✅ Wait for page to load\n",
    "time.sleep(3)\n",
    "\n",
    "# ✅ Confirm by printing the title\n",
    "print(\"✅ Page loaded!\")\n",
    "print(\"📝 Page Title:\", driver.title)"
   ]
  },
  {
   "cell_type": "code",
   "execution_count": null,
   "id": "c45d0a5e-9eee-4efb-bd2d-9e3d617ad40f",
   "metadata": {},
   "outputs": [],
   "source": [
    "### Web Scraping for 50 reviews on opened Flipkart URL"
   ]
  },
  {
   "cell_type": "code",
   "execution_count": null,
   "id": "796d59ab-6d5e-4dc0-a9f2-b48e1e55452b",
   "metadata": {},
   "outputs": [],
   "source": [
    "from selenium.webdriver.common.by import By\n",
    "from selenium.common.exceptions import NoSuchElementException, ElementClickInterceptedException\n",
    "import time\n",
    "\n",
    "# ✅ Initialize\n",
    "all_reviews = []\n",
    "REVIEW_TARGET = 100\n",
    "page = 1\n",
    "\n",
    "print(\"\\n🔁 Starting review scraping...\\n\")\n",
    "\n",
    "while len(all_reviews) < REVIEW_TARGET:\n",
    "    time.sleep(3)  # Let the page load completely\n",
    "\n",
    "    # ✅ Find all review blocks\n",
    "    review_blocks = driver.find_elements(By.CLASS_NAME, \"ZmyHeo\")\n",
    "\n",
    "    for block in review_blocks:\n",
    "        try:\n",
    "            # Extract the inner review text\n",
    "            review_text = block.find_element(By.TAG_NAME, 'div').text.strip()\n",
    "            if review_text:\n",
    "                all_reviews.append(review_text)\n",
    "                if len(all_reviews) >= REVIEW_TARGET:\n",
    "                    break\n",
    "        except:\n",
    "            continue\n",
    "\n",
    "    print(f\"✅ Collected {len(all_reviews)} reviews so far...\")\n",
    "\n",
    "    if len(all_reviews) >= REVIEW_TARGET:\n",
    "        break\n",
    "\n",
    "    # ✅ Click the \"Next\" button to go to the next review page\n",
    "    try:\n",
    "        next_button = driver.find_element(By.XPATH, '//span[text()=\"Next\"]')\n",
    "        driver.execute_script(\"arguments[0].click();\", next_button)  # JS click to avoid intercepts\n",
    "        page += 1\n",
    "        print(f\"➡️ Moving to page {page}...\\n\")\n",
    "    except (NoSuchElementException, ElementClickInterceptedException):\n",
    "        print(\"❌ 'Next' button not found or not clickable. Ending scraping.\")\n",
    "        break\n",
    "\n",
    "print(f\"\\n🎯 Finished scraping {len(all_reviews)} reviews!\\n\")\n"
   ]
  },
  {
   "cell_type": "code",
   "execution_count": null,
   "id": "2a2041de-e66d-4a33-bf2d-1c13f01c5fcb",
   "metadata": {},
   "outputs": [],
   "source": [
    "#### Checking reviews if they have been scraped or not"
   ]
  },
  {
   "cell_type": "code",
   "execution_count": null,
   "id": "c3a48288-8eda-404e-a3f8-22ad1d8d6c33",
   "metadata": {},
   "outputs": [],
   "source": [
    "for i, review in enumerate(all_reviews[:20], start=1):\n",
    "    print(f\"Review {i}:\\n{review}\\n{'-'*60}\")"
   ]
  },
  {
   "cell_type": "code",
   "execution_count": null,
   "id": "548e8888-2b28-470e-82fd-614ce9cf617d",
   "metadata": {},
   "outputs": [],
   "source": [
    "### Bringing in the VADER Lexicons and initialising them:"
   ]
  },
  {
   "cell_type": "code",
   "execution_count": null,
   "id": "d711c670-4312-4bde-9742-3e0076ea1d6d",
   "metadata": {},
   "outputs": [],
   "source": [
    "# Install VADER if not already installed\n",
    "!pip install vaderSentiment\n",
    "\n",
    "# Import\n",
    "from vaderSentiment.vaderSentiment import SentimentIntensityAnalyzer\n",
    "\n",
    "# Initialize analyzer\n",
    "analyzer = SentimentIntensityAnalyzer()"
   ]
  },
  {
   "cell_type": "code",
   "execution_count": null,
   "id": "0a81a989-b3d2-4fd4-bbfd-692b5bcb515b",
   "metadata": {},
   "outputs": [],
   "source": [
    "# Storage for results\n",
    "sentiment_results = []\n",
    "\n",
    "print(\"🔍 Starting sentiment analysis...\\n\")\n",
    "\n",
    "for i, review in enumerate(all_reviews, start=1):\n",
    "    scores = analyzer.polarity_scores(review)\n",
    "    compound = scores['compound']\n",
    "\n",
    "    # Classify based on compound score\n",
    "    if compound >= 0.05:\n",
    "        label = 'Positive'\n",
    "    elif compound <= -0.05:\n",
    "        label = 'Negative'\n",
    "    else:\n",
    "        label = 'Neutral'\n",
    "\n",
    "    sentiment_results.append({\n",
    "        'Review': review,\n",
    "        'Compound Score': compound,\n",
    "        'Sentiment': label\n",
    "    })\n",
    "\n",
    "    # Print first few for inspection\n",
    "    if i <= 20:\n",
    "        print(f\"Review {i}: {review}\")\n",
    "        print(f\"Score: {compound} → Sentiment: {label}\")\n",
    "        print('-'*80)\n",
    "\n",
    "print(f\"\\n✅ Analysis complete. Processed {len(sentiment_results)} reviews.\")"
   ]
  },
  {
   "cell_type": "code",
   "execution_count": null,
   "id": "4f2e27eb-fec8-4c57-8354-e2e8f84c8697",
   "metadata": {},
   "outputs": [],
   "source": [
    "### Now Analysing the Most fequently used Words in all the 100 reviews collected.\n",
    "\n",
    "## Via Wordcloud plotting using Wordcloud Package"
   ]
  },
  {
   "cell_type": "code",
   "execution_count": null,
   "id": "fd287ca0-0c16-4c47-a4c3-f7c66b16270c",
   "metadata": {},
   "outputs": [],
   "source": [
    "!pip install wordcloud"
   ]
  },
  {
   "cell_type": "code",
   "execution_count": null,
   "id": "61d4c7ef-6280-4ceb-8e22-dd8c325ad659",
   "metadata": {},
   "outputs": [],
   "source": [
    "\n",
    "from wordcloud import WordCloud\n",
    "import matplotlib.pyplot as plt\n",
    "\n",
    "# Join all reviews into one long string\n",
    "text_blob = \" \".join(all_reviews)\n",
    "\n",
    "# Generate word cloud\n",
    "wordcloud = WordCloud(width=800, height=400, background_color='white', colormap='plasma',\n",
    "                      max_words=100, collocations=False).generate(text_blob)\n",
    "\n",
    "# Plot\n",
    "plt.figure(figsize=(12, 6))\n",
    "plt.imshow(wordcloud, interpolation='bilinear')\n",
    "plt.axis('off')\n",
    "plt.title(\"🌀 Word Cloud of Flipkart Reviews\", fontsize=16)\n",
    "plt.show()\n"
   ]
  },
  {
   "cell_type": "code",
   "execution_count": null,
   "id": "0c4cfb46-1448-4c03-b476-6f691ed5bf9f",
   "metadata": {},
   "outputs": [],
   "source": [
    "### Now I will plot a bar Chart to observe the number of Positive , Negative and Neutral comments we have gotten\n",
    "### in the first 100 reviews "
   ]
  },
  {
   "cell_type": "code",
   "execution_count": null,
   "id": "5434253a-dd5e-4d81-8f54-ba4af5c11751",
   "metadata": {},
   "outputs": [],
   "source": [
    "import pandas as pd\n",
    "import seaborn as sns\n",
    "\n",
    "# Convert sentiment results to a DataFrame\n",
    "df = pd.DataFrame(sentiment_results)\n",
    "\n",
    "# Count sentiments\n",
    "sentiment_counts = df['Sentiment'].value_counts()\n",
    "\n",
    "# Plot\n",
    "plt.figure(figsize=(6,4))\n",
    "sns.barplot(x=sentiment_counts.index, y=sentiment_counts.values, palette='viridis')\n",
    "plt.title(\"📊 Sentiment Distribution of Reviews\", fontsize=14)\n",
    "plt.ylabel(\"Number of Reviews\")\n",
    "plt.xlabel(\"Sentiment\")\n",
    "plt.grid(axis='y', linestyle='--', alpha=0.5)\n",
    "plt.show()"
   ]
  },
  {
   "cell_type": "code",
   "execution_count": null,
   "id": "c85a17c8-03bf-41f6-815b-bc4cb72094eb",
   "metadata": {},
   "outputs": [],
   "source": [
    "### Saving the reviews and collected sentiments in a file on local Disk"
   ]
  },
  {
   "cell_type": "code",
   "execution_count": null,
   "id": "8fb08f62-837a-4aaa-90aa-3d834f1adcea",
   "metadata": {},
   "outputs": [],
   "source": [
    "\n",
    "# Convert the list of dicts to a DataFrame\n",
    "df = pd.DataFrame(sentiment_results)\n",
    "\n",
    "# Save to CSV file (update file path if needed)\n",
    "output_path = 'D:/Rishi/JINDAL Academics/Corporate Project/Dataset/Sentiment Analysis Flipkart/flipkart_reviews_sentiment.csv'\n",
    "df.to_csv(output_path, index=False)\n",
    "\n",
    "print(f\" File saved successfully: {output_path}\")"
   ]
  }
 ],
 "metadata": {
  "kernelspec": {
   "display_name": "Python 3 (ipykernel)",
   "language": "python",
   "name": "python3"
  },
  "language_info": {
   "codemirror_mode": {
    "name": "ipython",
    "version": 3
   },
   "file_extension": ".py",
   "mimetype": "text/x-python",
   "name": "python",
   "nbconvert_exporter": "python",
   "pygments_lexer": "ipython3",
   "version": "3.12.4"
  }
 },
 "nbformat": 4,
 "nbformat_minor": 5
}
